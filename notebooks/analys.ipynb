{
 "cells": [
  {
   "cell_type": "markdown",
   "metadata": {},
   "source": [
    "## Testing Download File"
   ]
  },
  {
   "cell_type": "code",
   "execution_count": 1,
   "metadata": {},
   "outputs": [],
   "source": [
    "import pandas as pd"
   ]
  },
  {
   "cell_type": "code",
   "execution_count": 2,
   "metadata": {},
   "outputs": [],
   "source": [
    "df = pd.read_csv('../data/raw/covid.csv', sep=',')"
   ]
  },
  {
   "cell_type": "code",
   "execution_count": 3,
   "metadata": {},
   "outputs": [
    {
     "data": {
      "text/plain": [
       "city                                             20119\n",
       "city_ibge_code                                   13646\n",
       "date                                                 0\n",
       "epidemiological_week                                 0\n",
       "estimated_population                             13646\n",
       "estimated_population_2019                        13646\n",
       "is_last                                              0\n",
       "is_repeated                                          0\n",
       "last_available_confirmed                             0\n",
       "last_available_confirmed_per_100k_inhabitants    29166\n",
       "last_available_date                                  0\n",
       "last_available_death_rate                            0\n",
       "last_available_deaths                                0\n",
       "order_for_place                                      0\n",
       "place_type                                           0\n",
       "state                                                0\n",
       "new_confirmed                                        0\n",
       "new_deaths                                           0\n",
       "dtype: int64"
      ]
     },
     "execution_count": 3,
     "metadata": {},
     "output_type": "execute_result"
    }
   ],
   "source": [
    "df.isna().sum()"
   ]
  },
  {
   "cell_type": "code",
   "execution_count": 4,
   "metadata": {},
   "outputs": [
    {
     "data": {
      "text/plain": [
       "(3853648, 18)"
      ]
     },
     "execution_count": 4,
     "metadata": {},
     "output_type": "execute_result"
    }
   ],
   "source": [
    "df.shape"
   ]
  },
  {
   "cell_type": "code",
   "execution_count": 5,
   "metadata": {},
   "outputs": [
    {
     "data": {
      "text/plain": [
       "Index(['city', 'city_ibge_code', 'date', 'epidemiological_week',\n",
       "       'estimated_population', 'estimated_population_2019', 'is_last',\n",
       "       'is_repeated', 'last_available_confirmed',\n",
       "       'last_available_confirmed_per_100k_inhabitants', 'last_available_date',\n",
       "       'last_available_death_rate', 'last_available_deaths', 'order_for_place',\n",
       "       'place_type', 'state', 'new_confirmed', 'new_deaths'],\n",
       "      dtype='object')"
      ]
     },
     "execution_count": 5,
     "metadata": {},
     "output_type": "execute_result"
    }
   ],
   "source": [
    "df.columns"
   ]
  },
  {
   "cell_type": "code",
   "execution_count": 6,
   "metadata": {},
   "outputs": [
    {
     "data": {
      "text/plain": [
       "city                                              object\n",
       "city_ibge_code                                   float64\n",
       "date                                              object\n",
       "epidemiological_week                               int64\n",
       "estimated_population                             float64\n",
       "estimated_population_2019                        float64\n",
       "is_last                                             bool\n",
       "is_repeated                                         bool\n",
       "last_available_confirmed                           int64\n",
       "last_available_confirmed_per_100k_inhabitants    float64\n",
       "last_available_date                               object\n",
       "last_available_death_rate                        float64\n",
       "last_available_deaths                              int64\n",
       "order_for_place                                    int64\n",
       "place_type                                        object\n",
       "state                                             object\n",
       "new_confirmed                                      int64\n",
       "new_deaths                                         int64\n",
       "dtype: object"
      ]
     },
     "execution_count": 6,
     "metadata": {},
     "output_type": "execute_result"
    }
   ],
   "source": [
    "df.dtypes"
   ]
  },
  {
   "cell_type": "markdown",
   "metadata": {},
   "source": [
    "## Verify Ibge Code Null"
   ]
  },
  {
   "cell_type": "code",
   "execution_count": 15,
   "metadata": {},
   "outputs": [],
   "source": [
    "without_ibge_code = df[df['city_ibge_code'].isna()]"
   ]
  },
  {
   "cell_type": "code",
   "execution_count": 18,
   "metadata": {},
   "outputs": [
    {
     "data": {
      "text/plain": [
       "(13646, 18)"
      ]
     },
     "execution_count": 18,
     "metadata": {},
     "output_type": "execute_result"
    }
   ],
   "source": [
    "without_ibge_code.shape"
   ]
  },
  {
   "cell_type": "code",
   "execution_count": 16,
   "metadata": {},
   "outputs": [
    {
     "data": {
      "text/html": [
       "<div>\n",
       "<style scoped>\n",
       "    .dataframe tbody tr th:only-of-type {\n",
       "        vertical-align: middle;\n",
       "    }\n",
       "\n",
       "    .dataframe tbody tr th {\n",
       "        vertical-align: top;\n",
       "    }\n",
       "\n",
       "    .dataframe thead th {\n",
       "        text-align: right;\n",
       "    }\n",
       "</style>\n",
       "<table border=\"1\" class=\"dataframe\">\n",
       "  <thead>\n",
       "    <tr style=\"text-align: right;\">\n",
       "      <th></th>\n",
       "      <th>city</th>\n",
       "      <th>city_ibge_code</th>\n",
       "      <th>date</th>\n",
       "      <th>epidemiological_week</th>\n",
       "      <th>estimated_population</th>\n",
       "      <th>estimated_population_2019</th>\n",
       "      <th>is_last</th>\n",
       "      <th>is_repeated</th>\n",
       "      <th>last_available_confirmed</th>\n",
       "      <th>last_available_confirmed_per_100k_inhabitants</th>\n",
       "      <th>last_available_date</th>\n",
       "      <th>last_available_death_rate</th>\n",
       "      <th>last_available_deaths</th>\n",
       "      <th>order_for_place</th>\n",
       "      <th>place_type</th>\n",
       "      <th>state</th>\n",
       "      <th>new_confirmed</th>\n",
       "      <th>new_deaths</th>\n",
       "    </tr>\n",
       "  </thead>\n",
       "  <tbody>\n",
       "    <tr>\n",
       "      <th>16196</th>\n",
       "      <td>Importados/Indefinidos</td>\n",
       "      <td>NaN</td>\n",
       "      <td>2020-03-29</td>\n",
       "      <td>202014</td>\n",
       "      <td>NaN</td>\n",
       "      <td>NaN</td>\n",
       "      <td>False</td>\n",
       "      <td>False</td>\n",
       "      <td>4</td>\n",
       "      <td>NaN</td>\n",
       "      <td>2020-03-29</td>\n",
       "      <td>0.0</td>\n",
       "      <td>0</td>\n",
       "      <td>1</td>\n",
       "      <td>city</td>\n",
       "      <td>AL</td>\n",
       "      <td>4</td>\n",
       "      <td>0</td>\n",
       "    </tr>\n",
       "    <tr>\n",
       "      <th>16200</th>\n",
       "      <td>Importados/Indefinidos</td>\n",
       "      <td>NaN</td>\n",
       "      <td>2020-03-30</td>\n",
       "      <td>202014</td>\n",
       "      <td>NaN</td>\n",
       "      <td>NaN</td>\n",
       "      <td>False</td>\n",
       "      <td>False</td>\n",
       "      <td>4</td>\n",
       "      <td>NaN</td>\n",
       "      <td>2020-03-30</td>\n",
       "      <td>0.0</td>\n",
       "      <td>0</td>\n",
       "      <td>2</td>\n",
       "      <td>city</td>\n",
       "      <td>AL</td>\n",
       "      <td>0</td>\n",
       "      <td>0</td>\n",
       "    </tr>\n",
       "    <tr>\n",
       "      <th>16204</th>\n",
       "      <td>Importados/Indefinidos</td>\n",
       "      <td>NaN</td>\n",
       "      <td>2020-03-31</td>\n",
       "      <td>202014</td>\n",
       "      <td>NaN</td>\n",
       "      <td>NaN</td>\n",
       "      <td>False</td>\n",
       "      <td>False</td>\n",
       "      <td>4</td>\n",
       "      <td>NaN</td>\n",
       "      <td>2020-03-31</td>\n",
       "      <td>0.0</td>\n",
       "      <td>0</td>\n",
       "      <td>3</td>\n",
       "      <td>city</td>\n",
       "      <td>AL</td>\n",
       "      <td>0</td>\n",
       "      <td>0</td>\n",
       "    </tr>\n",
       "    <tr>\n",
       "      <th>16208</th>\n",
       "      <td>Importados/Indefinidos</td>\n",
       "      <td>NaN</td>\n",
       "      <td>2020-04-01</td>\n",
       "      <td>202014</td>\n",
       "      <td>NaN</td>\n",
       "      <td>NaN</td>\n",
       "      <td>False</td>\n",
       "      <td>False</td>\n",
       "      <td>4</td>\n",
       "      <td>NaN</td>\n",
       "      <td>2020-04-01</td>\n",
       "      <td>0.0</td>\n",
       "      <td>0</td>\n",
       "      <td>4</td>\n",
       "      <td>city</td>\n",
       "      <td>AL</td>\n",
       "      <td>0</td>\n",
       "      <td>0</td>\n",
       "    </tr>\n",
       "    <tr>\n",
       "      <th>16212</th>\n",
       "      <td>Importados/Indefinidos</td>\n",
       "      <td>NaN</td>\n",
       "      <td>2020-04-02</td>\n",
       "      <td>202014</td>\n",
       "      <td>NaN</td>\n",
       "      <td>NaN</td>\n",
       "      <td>False</td>\n",
       "      <td>False</td>\n",
       "      <td>4</td>\n",
       "      <td>NaN</td>\n",
       "      <td>2020-04-02</td>\n",
       "      <td>0.0</td>\n",
       "      <td>0</td>\n",
       "      <td>5</td>\n",
       "      <td>city</td>\n",
       "      <td>AL</td>\n",
       "      <td>0</td>\n",
       "      <td>0</td>\n",
       "    </tr>\n",
       "  </tbody>\n",
       "</table>\n",
       "</div>"
      ],
      "text/plain": [
       "                         city  city_ibge_code        date  \\\n",
       "16196  Importados/Indefinidos             NaN  2020-03-29   \n",
       "16200  Importados/Indefinidos             NaN  2020-03-30   \n",
       "16204  Importados/Indefinidos             NaN  2020-03-31   \n",
       "16208  Importados/Indefinidos             NaN  2020-04-01   \n",
       "16212  Importados/Indefinidos             NaN  2020-04-02   \n",
       "\n",
       "       epidemiological_week  estimated_population  estimated_population_2019  \\\n",
       "16196                202014                   NaN                        NaN   \n",
       "16200                202014                   NaN                        NaN   \n",
       "16204                202014                   NaN                        NaN   \n",
       "16208                202014                   NaN                        NaN   \n",
       "16212                202014                   NaN                        NaN   \n",
       "\n",
       "       is_last  is_repeated  last_available_confirmed  \\\n",
       "16196    False        False                         4   \n",
       "16200    False        False                         4   \n",
       "16204    False        False                         4   \n",
       "16208    False        False                         4   \n",
       "16212    False        False                         4   \n",
       "\n",
       "       last_available_confirmed_per_100k_inhabitants last_available_date  \\\n",
       "16196                                            NaN          2020-03-29   \n",
       "16200                                            NaN          2020-03-30   \n",
       "16204                                            NaN          2020-03-31   \n",
       "16208                                            NaN          2020-04-01   \n",
       "16212                                            NaN          2020-04-02   \n",
       "\n",
       "       last_available_death_rate  last_available_deaths  order_for_place  \\\n",
       "16196                        0.0                      0                1   \n",
       "16200                        0.0                      0                2   \n",
       "16204                        0.0                      0                3   \n",
       "16208                        0.0                      0                4   \n",
       "16212                        0.0                      0                5   \n",
       "\n",
       "      place_type state  new_confirmed  new_deaths  \n",
       "16196       city    AL              4           0  \n",
       "16200       city    AL              0           0  \n",
       "16204       city    AL              0           0  \n",
       "16208       city    AL              0           0  \n",
       "16212       city    AL              0           0  "
      ]
     },
     "execution_count": 16,
     "metadata": {},
     "output_type": "execute_result"
    }
   ],
   "source": [
    "without_ibge_code.head()"
   ]
  },
  {
   "cell_type": "code",
   "execution_count": 17,
   "metadata": {},
   "outputs": [
    {
     "data": {
      "text/plain": [
       "array(['Importados/Indefinidos'], dtype=object)"
      ]
     },
     "execution_count": 17,
     "metadata": {},
     "output_type": "execute_result"
    }
   ],
   "source": [
    "without_ibge_code['city'].unique()"
   ]
  }
 ],
 "metadata": {
  "kernelspec": {
   "display_name": "venv",
   "language": "python",
   "name": "python3"
  },
  "language_info": {
   "codemirror_mode": {
    "name": "ipython",
    "version": 3
   },
   "file_extension": ".py",
   "mimetype": "text/x-python",
   "name": "python",
   "nbconvert_exporter": "python",
   "pygments_lexer": "ipython3",
   "version": "3.11.1"
  }
 },
 "nbformat": 4,
 "nbformat_minor": 2
}
